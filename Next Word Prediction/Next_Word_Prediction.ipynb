{
  "nbformat": 4,
  "nbformat_minor": 0,
  "metadata": {
    "colab": {
      "name": "Next Word Prediction.ipynb",
      "provenance": [],
      "collapsed_sections": []
    },
    "kernelspec": {
      "display_name": "Python 3",
      "name": "python3"
    },
    "language_info": {
      "name": "python"
    }
  },
  "cells": [
    {
      "cell_type": "markdown",
      "metadata": {
        "id": "PXgPyJ4CuH84"
      },
      "source": [
        "# **TASK - Next Word Prediction**\n",
        "\n",
        "Using Tensorflow and Keras library train a RNN , to predict the next word.\n",
        "\n",
        "For problem statement and guidance : https://thecleverprogrammer.com/2020/07/20/next-word-prediction-model/"
      ]
    },
    {
      "cell_type": "code",
      "metadata": {
        "id": "b_n_BOjXtyjN"
      },
      "source": [
        "import tensorflow as tf\n",
        "import numpy as np\n",
        "import pickle\n",
        "import numpy as np\n",
        "import os\n",
        "import matplotlib.pyplot as plt\n",
        "import pickle\n",
        "import heapq\n",
        "\n",
        "from nltk.tokenize import RegexpTokenizer\n",
        "from keras.models import Sequential, load_model\n",
        "from keras.layers import LSTM\n",
        "from keras.layers.core import Dense, Activation\n",
        "from tensorflow.keras.optimizers import RMSprop\n",
        "from tensorflow.keras.preprocessing.text import Tokenizer\n",
        "from tensorflow.keras.layers import Embedding, LSTM, Dense\n",
        "from tensorflow.keras.models import Sequential\n",
        "from tensorflow.keras.utils import to_categorical\n",
        "from tensorflow.keras.optimizers import Adam"
      ],
      "execution_count": 1,
      "outputs": []
    },
    {
      "cell_type": "markdown",
      "metadata": {
        "id": "IOSoOts2mC8-"
      },
      "source": [
        "### **Loading Data**\n",
        "Now let’s load the data and have a quick look at what we are going to work with:"
      ]
    },
    {
      "cell_type": "code",
      "metadata": {
        "colab": {
          "resources": {
            "http://localhost:8080/nbextensions/google.colab/files.js": {
              "data": "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",
              "ok": true,
              "headers": [
                [
                  "content-type",
                  "application/javascript"
                ]
              ],
              "status": 200,
              "status_text": ""
            }
          },
          "base_uri": "https://localhost:8080/",
          "height": 73
        },
        "id": "gI57XMxBt8we",
        "outputId": "e8be0847-091f-4028-e6a9-5d76968b3556"
      },
      "source": [
        "from google.colab import files\n",
        "uploaded = files.upload()"
      ],
      "execution_count": 2,
      "outputs": [
        {
          "output_type": "display_data",
          "data": {
            "text/html": [
              "\n",
              "     <input type=\"file\" id=\"files-9cd8e573-f54f-459e-b9f0-c3dee1c2ccf0\" name=\"files[]\" multiple disabled\n",
              "        style=\"border:none\" />\n",
              "     <output id=\"result-9cd8e573-f54f-459e-b9f0-c3dee1c2ccf0\">\n",
              "      Upload widget is only available when the cell has been executed in the\n",
              "      current browser session. Please rerun this cell to enable.\n",
              "      </output>\n",
              "      <script src=\"/nbextensions/google.colab/files.js\"></script> "
            ],
            "text/plain": [
              "<IPython.core.display.HTML object>"
            ]
          },
          "metadata": {}
        },
        {
          "output_type": "stream",
          "name": "stdout",
          "text": [
            "Saving NWP-DATA.txt to NWP-DATA.txt\n"
          ]
        }
      ]
    },
    {
      "cell_type": "markdown",
      "metadata": {
        "id": "xkZ_6fn5mMtA"
      },
      "source": [
        "### **Cleaning the data:**"
      ]
    },
    {
      "cell_type": "code",
      "metadata": {
        "id": "I491H0OhuJIt",
        "colab": {
          "base_uri": "https://localhost:8080/",
          "height": 70
        },
        "outputId": "f65ee968-dfb9-4de0-f9c4-1fecc1ceec88"
      },
      "source": [
        "file = open(\"NWP-DATA.txt\", \"r\", encoding = \"utf8\")\n",
        "\n",
        "# store file in list\n",
        "lines = []\n",
        "for i in file:\n",
        "    lines.append(i)\n",
        "\n",
        "# Convert list to string\n",
        "data = \"\"\n",
        "for i in lines:\n",
        "  data = ' '. join(lines) \n",
        "\n",
        "#replace unnecessary stuff with space\n",
        "data = data.replace('\\n', '').replace('\\r', '').replace('\\ufeff', '').replace('“','').replace('”','')  #new line, carriage return, unicode character --> replace by space\n",
        "\n",
        "#remove unnecessary spaces \n",
        "data = data.split()\n",
        "data = ' '.join(data)\n",
        "data[:500]"
      ],
      "execution_count": 3,
      "outputs": [
        {
          "output_type": "execute_result",
          "data": {
            "application/vnd.google.colaboratory.intrinsic+json": {
              "type": "string"
            },
            "text/plain": [
              "\"Project Gutenberg's The Adventures of Sherlock Holmes, by Arthur Conan Doyle This eBook is for the use of anyone anywhere at no cost and with almost no restrictions whatsoever. You may copy it, give it away or re-use it under the terms of the Project Gutenberg License included with this eBook or online at www.gutenberg.net Title: The Adventures of Sherlock Holmes Author: Arthur Conan Doyle Release Date: November 29, 2002 [EBook #1661] Last Updated: May 20, 2019 Language: English Character set en\""
            ]
          },
          "metadata": {},
          "execution_count": 3
        }
      ]
    },
    {
      "cell_type": "code",
      "metadata": {
        "id": "IyVSCBb8udF6",
        "colab": {
          "base_uri": "https://localhost:8080/"
        },
        "outputId": "73f83922-d732-4e93-ba4e-88fd2682c0a2"
      },
      "source": [
        "len(data)"
      ],
      "execution_count": 4,
      "outputs": [
        {
          "output_type": "execute_result",
          "data": {
            "text/plain": [
              "573660"
            ]
          },
          "metadata": {},
          "execution_count": 4
        }
      ]
    },
    {
      "cell_type": "code",
      "metadata": {
        "id": "7HKU-rz1i24v",
        "colab": {
          "base_uri": "https://localhost:8080/",
          "height": 53
        },
        "outputId": "d4b2b280-9829-497d-c6b5-9bc5afe6196f"
      },
      "source": [
        "data = \"\"\n",
        "\n",
        "for i in lines:\n",
        "    data = ' '. join(lines)\n",
        "    \n",
        "data = data.replace('\\n', '').replace('\\r', '').replace('\\ufeff', '')\n",
        "data[:360]"
      ],
      "execution_count": 5,
      "outputs": [
        {
          "output_type": "execute_result",
          "data": {
            "application/vnd.google.colaboratory.intrinsic+json": {
              "type": "string"
            },
            "text/plain": [
              "\" Project Gutenberg's The Adventures of Sherlock Holmes, by Arthur Conan Doyle  This eBook is for the use of anyone anywhere at no cost and with almost no restrictions whatsoever.  You may copy it, give it away or re-use it under the terms of the Project Gutenberg License included with this eBook or online at www.gutenberg.net   Title: The Adventures of Sherl\""
            ]
          },
          "metadata": {},
          "execution_count": 5
        }
      ]
    },
    {
      "cell_type": "code",
      "metadata": {
        "id": "KKTGHaG9i8O8",
        "colab": {
          "base_uri": "https://localhost:8080/",
          "height": 70
        },
        "outputId": "e2526369-05e0-467a-db87-d3e722b3e43c"
      },
      "source": [
        "import string\n",
        "\n",
        "translator = str.maketrans(string.punctuation, ' '*len(string.punctuation)) #map punctuation to space\n",
        "new_data = data.translate(translator)\n",
        "\n",
        "new_data[:500]"
      ],
      "execution_count": 6,
      "outputs": [
        {
          "output_type": "execute_result",
          "data": {
            "application/vnd.google.colaboratory.intrinsic+json": {
              "type": "string"
            },
            "text/plain": [
              "' Project Gutenberg s The Adventures of Sherlock Holmes  by Arthur Conan Doyle  This eBook is for the use of anyone anywhere at no cost and with almost no restrictions whatsoever   You may copy it  give it away or re use it under the terms of the Project Gutenberg License included with this eBook or online at www gutenberg net   Title  The Adventures of Sherlock Holmes  Author  Arthur Conan Doyle  Release Date  November 29  2002  EBook  1661  Last Updated  May 20  2019  Language  English  Charact'"
            ]
          },
          "metadata": {},
          "execution_count": 6
        }
      ]
    },
    {
      "cell_type": "code",
      "metadata": {
        "id": "s_vZrlNhi_Lj",
        "colab": {
          "base_uri": "https://localhost:8080/",
          "height": 70
        },
        "outputId": "04942326-08d8-432b-f48e-6cb83cd13d32"
      },
      "source": [
        "z = []\n",
        "\n",
        "for i in data.split():\n",
        "    if i not in z:\n",
        "        z.append(i)\n",
        "        \n",
        "data = ' '.join(z)\n",
        "data[:500]"
      ],
      "execution_count": 7,
      "outputs": [
        {
          "output_type": "execute_result",
          "data": {
            "application/vnd.google.colaboratory.intrinsic+json": {
              "type": "string"
            },
            "text/plain": [
              "\"Project Gutenberg's The Adventures of Sherlock Holmes, by Arthur Conan Doyle This eBook is for the use anyone anywhere at no cost and with almost restrictions whatsoever. You may copy it, give it away or re-use under terms Gutenberg License included this online www.gutenberg.net Title: Holmes Author: Release Date: November 29, 2002 [EBook #1661] Last Updated: May 20, 2019 Language: English Character set encoding: UTF-8 *** START OF THIS PROJECT GUTENBERG EBOOK THE ADVENTURES SHERLOCK HOLMES Prod\""
            ]
          },
          "metadata": {},
          "execution_count": 7
        }
      ]
    },
    {
      "cell_type": "markdown",
      "metadata": {
        "id": "xWjWn56embA1"
      },
      "source": [
        "### **Tokenization:**"
      ]
    },
    {
      "cell_type": "code",
      "metadata": {
        "id": "vhkY4znjug4f",
        "colab": {
          "base_uri": "https://localhost:8080/"
        },
        "outputId": "7a198ced-6a55-42a8-9de2-77713b3bc5d9"
      },
      "source": [
        "tokenizer = Tokenizer()\n",
        "tokenizer.fit_on_texts([data])\n",
        "\n",
        "# saving the tokenizer for predict function.\n",
        "pickle.dump(tokenizer, open('tokenizer1.pkl', 'wb'))\n",
        "\n",
        "sequence_data = tokenizer.texts_to_sequences([data])[0]\n",
        "sequence_data[:10]"
      ],
      "execution_count": 8,
      "outputs": [
        {
          "output_type": "execute_result",
          "data": {
            "text/plain": [
              "[838, 3083, 56, 322, 57, 1523, 15, 95, 839, 3084]"
            ]
          },
          "metadata": {},
          "execution_count": 8
        }
      ]
    },
    {
      "cell_type": "code",
      "metadata": {
        "id": "-IIS9KbJujyO",
        "colab": {
          "base_uri": "https://localhost:8080/"
        },
        "outputId": "410e6b34-0566-4642-df7d-feb8e8376f3f"
      },
      "source": [
        "len(sequence_data)"
      ],
      "execution_count": 9,
      "outputs": [
        {
          "output_type": "execute_result",
          "data": {
            "text/plain": [
              "17679"
            ]
          },
          "metadata": {},
          "execution_count": 9
        }
      ]
    },
    {
      "cell_type": "code",
      "metadata": {
        "id": "mW2CapPpumZz",
        "colab": {
          "base_uri": "https://localhost:8080/"
        },
        "outputId": "a7843065-02e8-40c3-ad7c-a02725f40b32"
      },
      "source": [
        "vocab_size = len(tokenizer.word_index) + 1\n",
        "print(vocab_size)"
      ],
      "execution_count": 10,
      "outputs": [
        {
          "output_type": "stream",
          "name": "stdout",
          "text": [
            "8931\n"
          ]
        }
      ]
    },
    {
      "cell_type": "code",
      "metadata": {
        "id": "8py_L_AVuqC2",
        "colab": {
          "base_uri": "https://localhost:8080/"
        },
        "outputId": "8d3e9243-836a-40ce-8483-fc211299f814"
      },
      "source": [
        "sequences = []\n",
        "\n",
        "for i in range(1, len(sequence_data)):\n",
        "    words = sequence_data[i-1:i+1]\n",
        "    sequences.append(words)\n",
        "    \n",
        "print(\"The Length of sequences are: \", len(sequences))\n",
        "sequences = np.array(sequences)\n",
        "sequences[:10]"
      ],
      "execution_count": 11,
      "outputs": [
        {
          "output_type": "stream",
          "name": "stdout",
          "text": [
            "The Length of sequences are:  17678\n"
          ]
        },
        {
          "output_type": "execute_result",
          "data": {
            "text/plain": [
              "array([[ 838, 3083],\n",
              "       [3083,   56],\n",
              "       [  56,  322],\n",
              "       [ 322,   57],\n",
              "       [  57, 1523],\n",
              "       [1523,   15],\n",
              "       [  15,   95],\n",
              "       [  95,  839],\n",
              "       [ 839, 3084],\n",
              "       [3084, 3085]])"
            ]
          },
          "metadata": {},
          "execution_count": 11
        }
      ]
    },
    {
      "cell_type": "code",
      "metadata": {
        "id": "7okODhSyuvr3"
      },
      "source": [
        "X = []\n",
        "y = []\n",
        "\n",
        "for i in sequences:\n",
        "    X.append(i[0])\n",
        "    y.append(i[1])\n",
        "    \n",
        "X = np.array(X)\n",
        "y = np.array(y)"
      ],
      "execution_count": 12,
      "outputs": []
    },
    {
      "cell_type": "code",
      "metadata": {
        "id": "h76dG0v3uy-K",
        "colab": {
          "base_uri": "https://localhost:8080/"
        },
        "outputId": "b461d7a3-91f8-43a1-fbba-967363c6af65"
      },
      "source": [
        "print(\"The Data is: \", X[:5])\n",
        "print(\"The responses are: \", y[:5])"
      ],
      "execution_count": 13,
      "outputs": [
        {
          "output_type": "stream",
          "name": "stdout",
          "text": [
            "The Data is:  [ 838 3083   56  322   57]\n",
            "The responses are:  [3083   56  322   57 1523]\n"
          ]
        }
      ]
    },
    {
      "cell_type": "code",
      "metadata": {
        "id": "jv2Su9Dpu2E6",
        "colab": {
          "base_uri": "https://localhost:8080/"
        },
        "outputId": "febc4267-acaf-4b48-95f9-9779ca68c566"
      },
      "source": [
        "y = to_categorical(y, num_classes=vocab_size)\n",
        "y[:5]"
      ],
      "execution_count": 14,
      "outputs": [
        {
          "output_type": "execute_result",
          "data": {
            "text/plain": [
              "array([[0., 0., 0., ..., 0., 0., 0.],\n",
              "       [0., 0., 0., ..., 0., 0., 0.],\n",
              "       [0., 0., 0., ..., 0., 0., 0.],\n",
              "       [0., 0., 0., ..., 0., 0., 0.],\n",
              "       [0., 0., 0., ..., 0., 0., 0.]], dtype=float32)"
            ]
          },
          "metadata": {},
          "execution_count": 14
        }
      ]
    },
    {
      "cell_type": "markdown",
      "metadata": {
        "id": "XY--snCFmn8G"
      },
      "source": [
        "### **Creating the Model:**"
      ]
    },
    {
      "cell_type": "code",
      "metadata": {
        "id": "fsoF6UU9u6Rk"
      },
      "source": [
        "model = Sequential()\n",
        "model.add(Embedding(vocab_size, 10, input_length=1))\n",
        "model.add(LSTM(1000, return_sequences=True))\n",
        "model.add(LSTM(1000))\n",
        "model.add(Dense(1000, activation=\"relu\"))\n",
        "model.add(Dense(vocab_size, activation=\"softmax\"))"
      ],
      "execution_count": 15,
      "outputs": []
    },
    {
      "cell_type": "code",
      "metadata": {
        "id": "MqfS-pSEu83g",
        "colab": {
          "base_uri": "https://localhost:8080/"
        },
        "outputId": "edbd7a4f-5c05-4ded-a12e-a4c918fe019f"
      },
      "source": [
        "model.summary()"
      ],
      "execution_count": 16,
      "outputs": [
        {
          "output_type": "stream",
          "name": "stdout",
          "text": [
            "Model: \"sequential\"\n",
            "_________________________________________________________________\n",
            " Layer (type)                Output Shape              Param #   \n",
            "=================================================================\n",
            " embedding (Embedding)       (None, 1, 10)             89310     \n",
            "                                                                 \n",
            " lstm (LSTM)                 (None, 1, 1000)           4044000   \n",
            "                                                                 \n",
            " lstm_1 (LSTM)               (None, 1000)              8004000   \n",
            "                                                                 \n",
            " dense (Dense)               (None, 1000)              1001000   \n",
            "                                                                 \n",
            " dense_1 (Dense)             (None, 8931)              8939931   \n",
            "                                                                 \n",
            "=================================================================\n",
            "Total params: 22,078,241\n",
            "Trainable params: 22,078,241\n",
            "Non-trainable params: 0\n",
            "_________________________________________________________________\n"
          ]
        }
      ]
    },
    {
      "cell_type": "markdown",
      "metadata": {
        "id": "z__j1I5ImuDF"
      },
      "source": [
        "### **Plot The Model**"
      ]
    },
    {
      "cell_type": "code",
      "metadata": {
        "id": "CAJh62JBvAK8",
        "colab": {
          "base_uri": "https://localhost:8080/",
          "height": 564
        },
        "outputId": "61904526-3c88-48d6-a0e6-1aec7517c607"
      },
      "source": [
        "from tensorflow import keras\n",
        "from keras.utils.vis_utils import plot_model\n",
        "\n",
        "keras.utils.plot_model(model, to_file='plot.png', show_layer_names=True)"
      ],
      "execution_count": 17,
      "outputs": [
        {
          "output_type": "execute_result",
          "data": {
            "image/png": "[encoded data removed]",
            "text/plain": [
              "<IPython.core.display.Image object>"
            ]
          },
          "metadata": {},
          "execution_count": 17
        }
      ]
    },
    {
      "cell_type": "markdown",
      "metadata": {
        "id": "TZNfN-Bjmz1W"
      },
      "source": [
        "### **Callbacks:**"
      ]
    },
    {
      "cell_type": "code",
      "metadata": {
        "id": "rA3jorvyvt_y"
      },
      "source": [
        "from tensorflow.keras.callbacks import ModelCheckpoint\n",
        "from tensorflow.keras.callbacks import ReduceLROnPlateau\n",
        "from tensorflow.keras.callbacks import TensorBoard\n",
        "\n",
        "checkpoint = ModelCheckpoint(\"nextword1.h5\", monitor='loss', verbose=1,\n",
        "    save_best_only=True, mode='auto')\n",
        "\n",
        "reduce = ReduceLROnPlateau(monitor='loss', factor=0.2, patience=3, min_lr=0.0001, verbose = 1)\n",
        "\n",
        "logdir='logsnextword1'\n",
        "tensorboard_Visualization = TensorBoard(log_dir=logdir)"
      ],
      "execution_count": 18,
      "outputs": []
    },
    {
      "cell_type": "markdown",
      "metadata": {
        "id": "GGQQ8-_ym4-o"
      },
      "source": [
        "### **Compile The Model:**"
      ]
    },
    {
      "cell_type": "code",
      "metadata": {
        "id": "ui13_VgXkQUE"
      },
      "source": [
        "model.compile(loss=\"categorical_crossentropy\", optimizer=Adam(learning_rate=0.001))"
      ],
      "execution_count": 19,
      "outputs": []
    },
    {
      "cell_type": "markdown",
      "metadata": {
        "id": "6P8faYa3nBmX"
      },
      "source": [
        "### **Fit The Model:**"
      ]
    },
    {
      "cell_type": "code",
      "metadata": {
        "id": "PxRrWcEkkaqX",
        "colab": {
          "base_uri": "https://localhost:8080/"
        },
        "outputId": "7ac672e4-16c8-4167-b49d-7d0639a1e9b9"
      },
      "source": [
        "model.fit(X, y, epochs=150, batch_size=64, callbacks=[checkpoint, reduce, tensorboard_Visualization])"
      ],
      "execution_count": 20,
      "outputs": [
        {
          "output_type": "stream",
          "name": "stdout",
          "text": [
            "Epoch 1/150\n",
            "277/277 [==============================] - ETA: 0s - loss: 8.8538\n",
            "Epoch 00001: loss improved from inf to 8.85384, saving model to nextword1.h5\n",
            "277/277 [==============================] - 79s 273ms/step - loss: 8.8538 - lr: 0.0010\n",
            "Epoch 2/150\n",
            "277/277 [==============================] - ETA: 0s - loss: 8.3636\n",
            "Epoch 00002: loss improved from 8.85384 to 8.36355, saving model to nextword1.h5\n",
            "277/277 [==============================] - 76s 273ms/step - loss: 8.3636 - lr: 0.0010\n",
            "Epoch 3/150\n",
            "277/277 [==============================] - ETA: 0s - loss: 8.0853\n",
            "Epoch 00003: loss improved from 8.36355 to 8.08525, saving model to nextword1.h5\n",
            "277/277 [==============================] - 76s 273ms/step - loss: 8.0853 - lr: 0.0010\n",
            "Epoch 4/150\n",
            "277/277 [==============================] - ETA: 0s - loss: 7.8398\n",
            "Epoch 00004: loss improved from 8.08525 to 7.83984, saving model to nextword1.h5\n",
            "277/277 [==============================] - 75s 272ms/step - loss: 7.8398 - lr: 0.0010\n",
            "Epoch 5/150\n",
            "277/277 [==============================] - ETA: 0s - loss: 7.5980\n",
            "Epoch 00005: loss improved from 7.83984 to 7.59802, saving model to nextword1.h5\n",
            "277/277 [==============================] - 75s 272ms/step - loss: 7.5980 - lr: 0.0010\n",
            "Epoch 6/150\n",
            "277/277 [==============================] - ETA: 0s - loss: 7.3290\n",
            "Epoch 00006: loss improved from 7.59802 to 7.32899, saving model to nextword1.h5\n",
            "277/277 [==============================] - 75s 271ms/step - loss: 7.3290 - lr: 0.0010\n",
            "Epoch 7/150\n",
            "277/277 [==============================] - ETA: 0s - loss: 7.0205\n",
            "Epoch 00007: loss improved from 7.32899 to 7.02053, saving model to nextword1.h5\n",
            "277/277 [==============================] - 75s 271ms/step - loss: 7.0205 - lr: 0.0010\n",
            "Epoch 8/150\n",
            "277/277 [==============================] - ETA: 0s - loss: 6.6898\n",
            "Epoch 00008: loss improved from 7.02053 to 6.68976, saving model to nextword1.h5\n",
            "277/277 [==============================] - 75s 270ms/step - loss: 6.6898 - lr: 0.0010\n",
            "Epoch 9/150\n",
            "277/277 [==============================] - ETA: 0s - loss: 6.3544\n",
            "Epoch 00009: loss improved from 6.68976 to 6.35443, saving model to nextword1.h5\n",
            "277/277 [==============================] - 75s 270ms/step - loss: 6.3544 - lr: 0.0010\n",
            "Epoch 10/150\n",
            "277/277 [==============================] - ETA: 0s - loss: 6.0387\n",
            "Epoch 00010: loss improved from 6.35443 to 6.03873, saving model to nextword1.h5\n",
            "277/277 [==============================] - 75s 271ms/step - loss: 6.0387 - lr: 0.0010\n",
            "Epoch 11/150\n",
            "277/277 [==============================] - ETA: 0s - loss: 5.7180\n",
            "Epoch 00011: loss improved from 6.03873 to 5.71796, saving model to nextword1.h5\n",
            "277/277 [==============================] - 75s 271ms/step - loss: 5.7180 - lr: 0.0010\n",
            "Epoch 12/150\n",
            "277/277 [==============================] - ETA: 0s - loss: 5.3902\n",
            "Epoch 00012: loss improved from 5.71796 to 5.39024, saving model to nextword1.h5\n",
            "277/277 [==============================] - 75s 270ms/step - loss: 5.3902 - lr: 0.0010\n",
            "Epoch 13/150\n",
            "277/277 [==============================] - ETA: 0s - loss: 5.0913\n",
            "Epoch 00013: loss improved from 5.39024 to 5.09127, saving model to nextword1.h5\n",
            "277/277 [==============================] - 75s 269ms/step - loss: 5.0913 - lr: 0.0010\n",
            "Epoch 14/150\n",
            "277/277 [==============================] - ETA: 0s - loss: 4.8092\n",
            "Epoch 00014: loss improved from 5.09127 to 4.80915, saving model to nextword1.h5\n",
            "277/277 [==============================] - 75s 269ms/step - loss: 4.8092 - lr: 0.0010\n",
            "Epoch 15/150\n",
            "277/277 [==============================] - ETA: 0s - loss: 4.5672\n",
            "Epoch 00015: loss improved from 4.80915 to 4.56721, saving model to nextword1.h5\n",
            "277/277 [==============================] - 74s 269ms/step - loss: 4.5672 - lr: 0.0010\n",
            "Epoch 16/150\n",
            "277/277 [==============================] - ETA: 0s - loss: 4.3482\n",
            "Epoch 00016: loss improved from 4.56721 to 4.34816, saving model to nextword1.h5\n",
            "277/277 [==============================] - 75s 271ms/step - loss: 4.3482 - lr: 0.0010\n",
            "Epoch 17/150\n",
            "277/277 [==============================] - ETA: 0s - loss: 4.1520\n",
            "Epoch 00017: loss improved from 4.34816 to 4.15200, saving model to nextword1.h5\n",
            "277/277 [==============================] - 75s 270ms/step - loss: 4.1520 - lr: 0.0010\n",
            "Epoch 18/150\n",
            "277/277 [==============================] - ETA: 0s - loss: 3.9699\n",
            "Epoch 00018: loss improved from 4.15200 to 3.96987, saving model to nextword1.h5\n",
            "277/277 [==============================] - 75s 271ms/step - loss: 3.9699 - lr: 0.0010\n",
            "Epoch 19/150\n",
            "277/277 [==============================] - ETA: 0s - loss: 3.8163\n",
            "Epoch 00019: loss improved from 3.96987 to 3.81627, saving model to nextword1.h5\n",
            "277/277 [==============================] - 75s 270ms/step - loss: 3.8163 - lr: 0.0010\n",
            "Epoch 20/150\n",
            "277/277 [==============================] - ETA: 0s - loss: 3.6747\n",
            "Epoch 00020: loss improved from 3.81627 to 3.67475, saving model to nextword1.h5\n",
            "277/277 [==============================] - 75s 270ms/step - loss: 3.6747 - lr: 0.0010\n",
            "Epoch 21/150\n",
            "277/277 [==============================] - ETA: 0s - loss: 3.5398\n",
            "Epoch 00021: loss improved from 3.67475 to 3.53978, saving model to nextword1.h5\n",
            "277/277 [==============================] - 75s 271ms/step - loss: 3.5398 - lr: 0.0010\n",
            "Epoch 22/150\n",
            "277/277 [==============================] - ETA: 0s - loss: 3.4179\n",
            "Epoch 00022: loss improved from 3.53978 to 3.41794, saving model to nextword1.h5\n",
            "277/277 [==============================] - 75s 272ms/step - loss: 3.4179 - lr: 0.0010\n",
            "Epoch 23/150\n",
            "277/277 [==============================] - ETA: 0s - loss: 3.3012\n",
            "Epoch 00023: loss improved from 3.41794 to 3.30118, saving model to nextword1.h5\n",
            "277/277 [==============================] - 75s 271ms/step - loss: 3.3012 - lr: 0.0010\n",
            "Epoch 24/150\n",
            "277/277 [==============================] - ETA: 0s - loss: 3.1950\n",
            "Epoch 00024: loss improved from 3.30118 to 3.19500, saving model to nextword1.h5\n",
            "277/277 [==============================] - 75s 272ms/step - loss: 3.1950 - lr: 0.0010\n",
            "Epoch 25/150\n",
            "277/277 [==============================] - ETA: 0s - loss: 3.0989\n",
            "Epoch 00025: loss improved from 3.19500 to 3.09892, saving model to nextword1.h5\n",
            "277/277 [==============================] - 75s 271ms/step - loss: 3.0989 - lr: 0.0010\n",
            "Epoch 26/150\n",
            "277/277 [==============================] - ETA: 0s - loss: 3.0050\n",
            "Epoch 00026: loss improved from 3.09892 to 3.00502, saving model to nextword1.h5\n",
            "277/277 [==============================] - 75s 270ms/step - loss: 3.0050 - lr: 0.0010\n",
            "Epoch 27/150\n",
            "277/277 [==============================] - ETA: 0s - loss: 2.9120\n",
            "Epoch 00027: loss improved from 3.00502 to 2.91201, saving model to nextword1.h5\n",
            "277/277 [==============================] - 75s 270ms/step - loss: 2.9120 - lr: 0.0010\n",
            "Epoch 28/150\n",
            "277/277 [==============================] - ETA: 0s - loss: 2.8377\n",
            "Epoch 00028: loss improved from 2.91201 to 2.83767, saving model to nextword1.h5\n",
            "277/277 [==============================] - 75s 269ms/step - loss: 2.8377 - lr: 0.0010\n",
            "Epoch 29/150\n",
            "277/277 [==============================] - ETA: 0s - loss: 2.7697\n",
            "Epoch 00029: loss improved from 2.83767 to 2.76969, saving model to nextword1.h5\n",
            "277/277 [==============================] - 75s 269ms/step - loss: 2.7697 - lr: 0.0010\n",
            "Epoch 30/150\n",
            "277/277 [==============================] - ETA: 0s - loss: 2.6970\n",
            "Epoch 00030: loss improved from 2.76969 to 2.69699, saving model to nextword1.h5\n",
            "277/277 [==============================] - 75s 270ms/step - loss: 2.6970 - lr: 0.0010\n",
            "Epoch 31/150\n",
            "277/277 [==============================] - ETA: 0s - loss: 2.6320\n",
            "Epoch 00031: loss improved from 2.69699 to 2.63203, saving model to nextword1.h5\n",
            "277/277 [==============================] - 75s 271ms/step - loss: 2.6320 - lr: 0.0010\n",
            "Epoch 32/150\n",
            "277/277 [==============================] - ETA: 0s - loss: 2.5833\n",
            "Epoch 00032: loss improved from 2.63203 to 2.58328, saving model to nextword1.h5\n",
            "277/277 [==============================] - 75s 271ms/step - loss: 2.5833 - lr: 0.0010\n",
            "Epoch 33/150\n",
            "277/277 [==============================] - ETA: 0s - loss: 2.5425\n",
            "Epoch 00033: loss improved from 2.58328 to 2.54255, saving model to nextword1.h5\n",
            "277/277 [==============================] - 75s 270ms/step - loss: 2.5425 - lr: 0.0010\n",
            "Epoch 34/150\n",
            "277/277 [==============================] - ETA: 0s - loss: 2.4849\n",
            "Epoch 00034: loss improved from 2.54255 to 2.48494, saving model to nextword1.h5\n",
            "277/277 [==============================] - 75s 270ms/step - loss: 2.4849 - lr: 0.0010\n",
            "Epoch 35/150\n",
            "277/277 [==============================] - ETA: 0s - loss: 2.4419\n",
            "Epoch 00035: loss improved from 2.48494 to 2.44192, saving model to nextword1.h5\n",
            "277/277 [==============================] - 75s 270ms/step - loss: 2.4419 - lr: 0.0010\n",
            "Epoch 36/150\n",
            "277/277 [==============================] - ETA: 0s - loss: 2.3888\n",
            "Epoch 00036: loss improved from 2.44192 to 2.38878, saving model to nextword1.h5\n",
            "277/277 [==============================] - 75s 271ms/step - loss: 2.3888 - lr: 0.0010\n",
            "Epoch 37/150\n",
            "277/277 [==============================] - ETA: 0s - loss: 2.3534\n",
            "Epoch 00037: loss improved from 2.38878 to 2.35343, saving model to nextword1.h5\n",
            "277/277 [==============================] - 75s 270ms/step - loss: 2.3534 - lr: 0.0010\n",
            "Epoch 38/150\n",
            "277/277 [==============================] - ETA: 0s - loss: 2.3207\n",
            "Epoch 00038: loss improved from 2.35343 to 2.32067, saving model to nextword1.h5\n",
            "277/277 [==============================] - 75s 271ms/step - loss: 2.3207 - lr: 0.0010\n",
            "Epoch 39/150\n",
            "277/277 [==============================] - ETA: 0s - loss: 2.2787\n",
            "Epoch 00039: loss improved from 2.32067 to 2.27869, saving model to nextword1.h5\n",
            "277/277 [==============================] - 75s 271ms/step - loss: 2.2787 - lr: 0.0010\n",
            "Epoch 40/150\n",
            "277/277 [==============================] - ETA: 0s - loss: 2.2526\n",
            "Epoch 00040: loss improved from 2.27869 to 2.25257, saving model to nextword1.h5\n",
            "277/277 [==============================] - 75s 271ms/step - loss: 2.2526 - lr: 0.0010\n",
            "Epoch 41/150\n",
            "277/277 [==============================] - ETA: 0s - loss: 2.2216\n",
            "Epoch 00041: loss improved from 2.25257 to 2.22155, saving model to nextword1.h5\n",
            "277/277 [==============================] - 75s 271ms/step - loss: 2.2216 - lr: 0.0010\n",
            "Epoch 42/150\n",
            "277/277 [==============================] - ETA: 0s - loss: 2.1915\n",
            "Epoch 00042: loss improved from 2.22155 to 2.19146, saving model to nextword1.h5\n",
            "277/277 [==============================] - 75s 271ms/step - loss: 2.1915 - lr: 0.0010\n",
            "Epoch 43/150\n",
            "277/277 [==============================] - ETA: 0s - loss: 2.1672\n",
            "Epoch 00043: loss improved from 2.19146 to 2.16721, saving model to nextword1.h5\n",
            "277/277 [==============================] - 75s 271ms/step - loss: 2.1672 - lr: 0.0010\n",
            "Epoch 44/150\n",
            "277/277 [==============================] - ETA: 0s - loss: 2.1433\n",
            "Epoch 00044: loss improved from 2.16721 to 2.14328, saving model to nextword1.h5\n",
            "277/277 [==============================] - 75s 272ms/step - loss: 2.1433 - lr: 0.0010\n",
            "Epoch 45/150\n",
            "277/277 [==============================] - ETA: 0s - loss: 2.1291\n",
            "Epoch 00045: loss improved from 2.14328 to 2.12914, saving model to nextword1.h5\n",
            "277/277 [==============================] - 75s 272ms/step - loss: 2.1291 - lr: 0.0010\n",
            "Epoch 46/150\n",
            "277/277 [==============================] - ETA: 0s - loss: 2.1076\n",
            "Epoch 00046: loss improved from 2.12914 to 2.10762, saving model to nextword1.h5\n",
            "277/277 [==============================] - 75s 271ms/step - loss: 2.1076 - lr: 0.0010\n",
            "Epoch 47/150\n",
            "277/277 [==============================] - ETA: 0s - loss: 2.0899\n",
            "Epoch 00047: loss improved from 2.10762 to 2.08990, saving model to nextword1.h5\n",
            "277/277 [==============================] - 75s 270ms/step - loss: 2.0899 - lr: 0.0010\n",
            "Epoch 48/150\n",
            "277/277 [==============================] - ETA: 0s - loss: 2.0816\n",
            "Epoch 00048: loss improved from 2.08990 to 2.08164, saving model to nextword1.h5\n",
            "277/277 [==============================] - 75s 271ms/step - loss: 2.0816 - lr: 0.0010\n",
            "Epoch 49/150\n",
            "277/277 [==============================] - ETA: 0s - loss: 2.0801\n",
            "Epoch 00049: loss improved from 2.08164 to 2.08007, saving model to nextword1.h5\n",
            "277/277 [==============================] - 75s 271ms/step - loss: 2.0801 - lr: 0.0010\n",
            "Epoch 50/150\n",
            "277/277 [==============================] - ETA: 0s - loss: 2.0544\n",
            "Epoch 00050: loss improved from 2.08007 to 2.05442, saving model to nextword1.h5\n",
            "277/277 [==============================] - 75s 271ms/step - loss: 2.0544 - lr: 0.0010\n",
            "Epoch 51/150\n",
            "277/277 [==============================] - ETA: 0s - loss: 2.0368\n",
            "Epoch 00051: loss improved from 2.05442 to 2.03685, saving model to nextword1.h5\n",
            "277/277 [==============================] - 75s 271ms/step - loss: 2.0368 - lr: 0.0010\n",
            "Epoch 52/150\n",
            "277/277 [==============================] - ETA: 0s - loss: 2.0149\n",
            "Epoch 00052: loss improved from 2.03685 to 2.01486, saving model to nextword1.h5\n",
            "277/277 [==============================] - 75s 271ms/step - loss: 2.0149 - lr: 0.0010\n",
            "Epoch 53/150\n",
            "277/277 [==============================] - ETA: 0s - loss: 1.9996\n",
            "Epoch 00053: loss improved from 2.01486 to 1.99957, saving model to nextword1.h5\n",
            "277/277 [==============================] - 75s 271ms/step - loss: 1.9996 - lr: 0.0010\n",
            "Epoch 54/150\n",
            "277/277 [==============================] - ETA: 0s - loss: 1.9805\n",
            "Epoch 00054: loss improved from 1.99957 to 1.98047, saving model to nextword1.h5\n",
            "277/277 [==============================] - 75s 271ms/step - loss: 1.9805 - lr: 0.0010\n",
            "Epoch 55/150\n",
            "277/277 [==============================] - ETA: 0s - loss: 1.9627\n",
            "Epoch 00055: loss improved from 1.98047 to 1.96266, saving model to nextword1.h5\n",
            "277/277 [==============================] - 75s 271ms/step - loss: 1.9627 - lr: 0.0010\n",
            "Epoch 56/150\n",
            "277/277 [==============================] - ETA: 0s - loss: 1.9500\n",
            "Epoch 00056: loss improved from 1.96266 to 1.95001, saving model to nextword1.h5\n",
            "277/277 [==============================] - 75s 272ms/step - loss: 1.9500 - lr: 0.0010\n",
            "Epoch 57/150\n",
            "277/277 [==============================] - ETA: 0s - loss: 1.9357\n",
            "Epoch 00057: loss improved from 1.95001 to 1.93575, saving model to nextword1.h5\n",
            "277/277 [==============================] - 76s 273ms/step - loss: 1.9357 - lr: 0.0010\n",
            "Epoch 58/150\n",
            "277/277 [==============================] - ETA: 0s - loss: 1.9265\n",
            "Epoch 00058: loss improved from 1.93575 to 1.92650, saving model to nextword1.h5\n",
            "277/277 [==============================] - 76s 273ms/step - loss: 1.9265 - lr: 0.0010\n",
            "Epoch 59/150\n",
            "277/277 [==============================] - ETA: 0s - loss: 1.9269\n",
            "Epoch 00059: loss did not improve from 1.92650\n",
            "277/277 [==============================] - 75s 270ms/step - loss: 1.9269 - lr: 0.0010\n",
            "Epoch 60/150\n",
            "277/277 [==============================] - ETA: 0s - loss: 1.9229\n",
            "Epoch 00060: loss improved from 1.92650 to 1.92292, saving model to nextword1.h5\n",
            "277/277 [==============================] - 75s 272ms/step - loss: 1.9229 - lr: 0.0010\n",
            "Epoch 61/150\n",
            "277/277 [==============================] - ETA: 0s - loss: 1.9208\n",
            "Epoch 00061: loss improved from 1.92292 to 1.92083, saving model to nextword1.h5\n",
            "277/277 [==============================] - 75s 271ms/step - loss: 1.9208 - lr: 0.0010\n",
            "Epoch 62/150\n",
            "277/277 [==============================] - ETA: 0s - loss: 1.9137\n",
            "Epoch 00062: loss improved from 1.92083 to 1.91374, saving model to nextword1.h5\n",
            "277/277 [==============================] - 75s 272ms/step - loss: 1.9137 - lr: 0.0010\n",
            "Epoch 63/150\n",
            "277/277 [==============================] - ETA: 0s - loss: 1.8950\n",
            "Epoch 00063: loss improved from 1.91374 to 1.89499, saving model to nextword1.h5\n",
            "277/277 [==============================] - 75s 271ms/step - loss: 1.8950 - lr: 0.0010\n",
            "Epoch 64/150\n",
            "277/277 [==============================] - ETA: 0s - loss: 1.8784\n",
            "Epoch 00064: loss improved from 1.89499 to 1.87842, saving model to nextword1.h5\n",
            "277/277 [==============================] - 75s 272ms/step - loss: 1.8784 - lr: 0.0010\n",
            "Epoch 65/150\n",
            "277/277 [==============================] - ETA: 0s - loss: 1.8650\n",
            "Epoch 00065: loss improved from 1.87842 to 1.86503, saving model to nextword1.h5\n",
            "277/277 [==============================] - 75s 272ms/step - loss: 1.8650 - lr: 0.0010\n",
            "Epoch 66/150\n",
            "277/277 [==============================] - ETA: 0s - loss: 1.8547\n",
            "Epoch 00066: loss improved from 1.86503 to 1.85470, saving model to nextword1.h5\n",
            "277/277 [==============================] - 75s 272ms/step - loss: 1.8547 - lr: 0.0010\n",
            "Epoch 67/150\n",
            "277/277 [==============================] - ETA: 0s - loss: 1.8480\n",
            "Epoch 00067: loss improved from 1.85470 to 1.84800, saving model to nextword1.h5\n",
            "277/277 [==============================] - 76s 272ms/step - loss: 1.8480 - lr: 0.0010\n",
            "Epoch 68/150\n",
            "277/277 [==============================] - ETA: 0s - loss: 1.8425\n",
            "Epoch 00068: loss improved from 1.84800 to 1.84247, saving model to nextword1.h5\n",
            "277/277 [==============================] - 76s 274ms/step - loss: 1.8425 - lr: 0.0010\n",
            "Epoch 69/150\n",
            "277/277 [==============================] - ETA: 0s - loss: 1.8291\n",
            "Epoch 00069: loss improved from 1.84247 to 1.82913, saving model to nextword1.h5\n",
            "277/277 [==============================] - 75s 272ms/step - loss: 1.8291 - lr: 0.0010\n",
            "Epoch 70/150\n",
            "277/277 [==============================] - ETA: 0s - loss: 1.8268\n",
            "Epoch 00070: loss improved from 1.82913 to 1.82679, saving model to nextword1.h5\n",
            "277/277 [==============================] - 75s 272ms/step - loss: 1.8268 - lr: 0.0010\n",
            "Epoch 71/150\n",
            "277/277 [==============================] - ETA: 0s - loss: 1.8146\n",
            "Epoch 00071: loss improved from 1.82679 to 1.81456, saving model to nextword1.h5\n",
            "277/277 [==============================] - 75s 272ms/step - loss: 1.8146 - lr: 0.0010\n",
            "Epoch 72/150\n",
            "277/277 [==============================] - ETA: 0s - loss: 1.8149\n",
            "Epoch 00072: loss did not improve from 1.81456\n",
            "277/277 [==============================] - 75s 270ms/step - loss: 1.8149 - lr: 0.0010\n",
            "Epoch 73/150\n",
            "277/277 [==============================] - ETA: 0s - loss: 1.8061\n",
            "Epoch 00073: loss improved from 1.81456 to 1.80615, saving model to nextword1.h5\n",
            "277/277 [==============================] - 75s 272ms/step - loss: 1.8061 - lr: 0.0010\n",
            "Epoch 74/150\n",
            "277/277 [==============================] - ETA: 0s - loss: 1.7947\n",
            "Epoch 00074: loss improved from 1.80615 to 1.79475, saving model to nextword1.h5\n",
            "277/277 [==============================] - 76s 273ms/step - loss: 1.7947 - lr: 0.0010\n",
            "Epoch 75/150\n",
            "277/277 [==============================] - ETA: 0s - loss: 1.7899\n",
            "Epoch 00075: loss improved from 1.79475 to 1.78987, saving model to nextword1.h5\n",
            "277/277 [==============================] - 76s 273ms/step - loss: 1.7899 - lr: 0.0010\n",
            "Epoch 76/150\n",
            "277/277 [==============================] - ETA: 0s - loss: 1.7755\n",
            "Epoch 00076: loss improved from 1.78987 to 1.77552, saving model to nextword1.h5\n",
            "277/277 [==============================] - 76s 274ms/step - loss: 1.7755 - lr: 0.0010\n",
            "Epoch 77/150\n",
            "277/277 [==============================] - ETA: 0s - loss: 1.7696\n",
            "Epoch 00077: loss improved from 1.77552 to 1.76964, saving model to nextword1.h5\n",
            "277/277 [==============================] - 76s 273ms/step - loss: 1.7696 - lr: 0.0010\n",
            "Epoch 78/150\n",
            "277/277 [==============================] - ETA: 0s - loss: 1.7661\n",
            "Epoch 00078: loss improved from 1.76964 to 1.76610, saving model to nextword1.h5\n",
            "277/277 [==============================] - 76s 274ms/step - loss: 1.7661 - lr: 0.0010\n",
            "Epoch 79/150\n",
            "277/277 [==============================] - ETA: 0s - loss: 1.7660\n",
            "Epoch 00079: loss improved from 1.76610 to 1.76598, saving model to nextword1.h5\n",
            "277/277 [==============================] - 76s 274ms/step - loss: 1.7660 - lr: 0.0010\n",
            "Epoch 80/150\n",
            "277/277 [==============================] - ETA: 0s - loss: 1.7675\n",
            "Epoch 00080: loss did not improve from 1.76598\n",
            "277/277 [==============================] - 75s 272ms/step - loss: 1.7675 - lr: 0.0010\n",
            "Epoch 81/150\n",
            "277/277 [==============================] - ETA: 0s - loss: 1.7630\n",
            "Epoch 00081: loss improved from 1.76598 to 1.76298, saving model to nextword1.h5\n",
            "277/277 [==============================] - 76s 274ms/step - loss: 1.7630 - lr: 0.0010\n",
            "Epoch 82/150\n",
            "277/277 [==============================] - ETA: 0s - loss: 1.7599\n",
            "Epoch 00082: loss improved from 1.76298 to 1.75991, saving model to nextword1.h5\n",
            "277/277 [==============================] - 76s 274ms/step - loss: 1.7599 - lr: 0.0010\n",
            "Epoch 83/150\n",
            "277/277 [==============================] - ETA: 0s - loss: 1.7599\n",
            "Epoch 00083: loss did not improve from 1.75991\n",
            "277/277 [==============================] - 75s 270ms/step - loss: 1.7599 - lr: 0.0010\n",
            "Epoch 84/150\n",
            "277/277 [==============================] - ETA: 0s - loss: 1.7475\n",
            "Epoch 00084: loss improved from 1.75991 to 1.74746, saving model to nextword1.h5\n",
            "277/277 [==============================] - 75s 272ms/step - loss: 1.7475 - lr: 0.0010\n",
            "Epoch 85/150\n",
            "277/277 [==============================] - ETA: 0s - loss: 1.7368\n",
            "Epoch 00085: loss improved from 1.74746 to 1.73677, saving model to nextword1.h5\n",
            "277/277 [==============================] - 76s 273ms/step - loss: 1.7368 - lr: 0.0010\n",
            "Epoch 86/150\n",
            "277/277 [==============================] - ETA: 0s - loss: 1.7356\n",
            "Epoch 00086: loss improved from 1.73677 to 1.73556, saving model to nextword1.h5\n",
            "277/277 [==============================] - 76s 273ms/step - loss: 1.7356 - lr: 0.0010\n",
            "Epoch 87/150\n",
            "277/277 [==============================] - ETA: 0s - loss: 1.7310\n",
            "Epoch 00087: loss improved from 1.73556 to 1.73098, saving model to nextword1.h5\n",
            "277/277 [==============================] - 76s 273ms/step - loss: 1.7310 - lr: 0.0010\n",
            "Epoch 88/150\n",
            "277/277 [==============================] - ETA: 0s - loss: 1.7282\n",
            "Epoch 00088: loss improved from 1.73098 to 1.72818, saving model to nextword1.h5\n",
            "277/277 [==============================] - 76s 272ms/step - loss: 1.7282 - lr: 0.0010\n",
            "Epoch 89/150\n",
            "277/277 [==============================] - ETA: 0s - loss: 1.7152\n",
            "Epoch 00089: loss improved from 1.72818 to 1.71522, saving model to nextword1.h5\n",
            "277/277 [==============================] - 76s 273ms/step - loss: 1.7152 - lr: 0.0010\n",
            "Epoch 90/150\n",
            "277/277 [==============================] - ETA: 0s - loss: 1.7144\n",
            "Epoch 00090: loss improved from 1.71522 to 1.71441, saving model to nextword1.h5\n",
            "277/277 [==============================] - 75s 272ms/step - loss: 1.7144 - lr: 0.0010\n",
            "Epoch 91/150\n",
            "277/277 [==============================] - ETA: 0s - loss: 1.7091\n",
            "Epoch 00091: loss improved from 1.71441 to 1.70912, saving model to nextword1.h5\n",
            "277/277 [==============================] - 76s 273ms/step - loss: 1.7091 - lr: 0.0010\n",
            "Epoch 92/150\n",
            "277/277 [==============================] - ETA: 0s - loss: 1.7066\n",
            "Epoch 00092: loss improved from 1.70912 to 1.70661, saving model to nextword1.h5\n",
            "277/277 [==============================] - 76s 273ms/step - loss: 1.7066 - lr: 0.0010\n",
            "Epoch 93/150\n",
            "277/277 [==============================] - ETA: 0s - loss: 1.7016\n",
            "Epoch 00093: loss improved from 1.70661 to 1.70158, saving model to nextword1.h5\n",
            "277/277 [==============================] - 76s 274ms/step - loss: 1.7016 - lr: 0.0010\n",
            "Epoch 94/150\n",
            "277/277 [==============================] - ETA: 0s - loss: 1.6975\n",
            "Epoch 00094: loss improved from 1.70158 to 1.69755, saving model to nextword1.h5\n",
            "277/277 [==============================] - 77s 276ms/step - loss: 1.6975 - lr: 0.0010\n",
            "Epoch 95/150\n",
            "277/277 [==============================] - ETA: 0s - loss: 1.6980\n",
            "Epoch 00095: loss did not improve from 1.69755\n",
            "277/277 [==============================] - 75s 270ms/step - loss: 1.6980 - lr: 0.0010\n",
            "Epoch 96/150\n",
            "277/277 [==============================] - ETA: 0s - loss: 1.6995\n",
            "Epoch 00096: loss did not improve from 1.69755\n",
            "277/277 [==============================] - 75s 270ms/step - loss: 1.6995 - lr: 0.0010\n",
            "Epoch 97/150\n",
            "277/277 [==============================] - ETA: 0s - loss: 1.6923\n",
            "Epoch 00097: loss improved from 1.69755 to 1.69225, saving model to nextword1.h5\n",
            "277/277 [==============================] - 75s 272ms/step - loss: 1.6923 - lr: 0.0010\n",
            "Epoch 98/150\n",
            "277/277 [==============================] - ETA: 0s - loss: 1.6890\n",
            "Epoch 00098: loss improved from 1.69225 to 1.68904, saving model to nextword1.h5\n",
            "277/277 [==============================] - 75s 272ms/step - loss: 1.6890 - lr: 0.0010\n",
            "Epoch 99/150\n",
            "277/277 [==============================] - ETA: 0s - loss: 1.6867\n",
            "Epoch 00099: loss improved from 1.68904 to 1.68673, saving model to nextword1.h5\n",
            "277/277 [==============================] - 75s 272ms/step - loss: 1.6867 - lr: 0.0010\n",
            "Epoch 100/150\n",
            "277/277 [==============================] - ETA: 0s - loss: 1.6846\n",
            "Epoch 00100: loss improved from 1.68673 to 1.68460, saving model to nextword1.h5\n",
            "277/277 [==============================] - 76s 273ms/step - loss: 1.6846 - lr: 0.0010\n",
            "Epoch 101/150\n",
            "277/277 [==============================] - ETA: 0s - loss: 1.6759\n",
            "Epoch 00101: loss improved from 1.68460 to 1.67587, saving model to nextword1.h5\n",
            "277/277 [==============================] - 75s 272ms/step - loss: 1.6759 - lr: 0.0010\n",
            "Epoch 102/150\n",
            "277/277 [==============================] - ETA: 0s - loss: 1.6729\n",
            "Epoch 00102: loss improved from 1.67587 to 1.67290, saving model to nextword1.h5\n",
            "277/277 [==============================] - 75s 271ms/step - loss: 1.6729 - lr: 0.0010\n",
            "Epoch 103/150\n",
            "277/277 [==============================] - ETA: 0s - loss: 1.6703\n",
            "Epoch 00103: loss improved from 1.67290 to 1.67030, saving model to nextword1.h5\n",
            "277/277 [==============================] - 75s 272ms/step - loss: 1.6703 - lr: 0.0010\n",
            "Epoch 104/150\n",
            "277/277 [==============================] - ETA: 0s - loss: 1.6689\n",
            "Epoch 00104: loss improved from 1.67030 to 1.66892, saving model to nextword1.h5\n",
            "277/277 [==============================] - 75s 272ms/step - loss: 1.6689 - lr: 0.0010\n",
            "Epoch 105/150\n",
            "277/277 [==============================] - ETA: 0s - loss: 1.6687\n",
            "Epoch 00105: loss improved from 1.66892 to 1.66868, saving model to nextword1.h5\n",
            "277/277 [==============================] - 76s 273ms/step - loss: 1.6687 - lr: 0.0010\n",
            "Epoch 106/150\n",
            "277/277 [==============================] - ETA: 0s - loss: 1.6646\n",
            "Epoch 00106: loss improved from 1.66868 to 1.66463, saving model to nextword1.h5\n",
            "277/277 [==============================] - 75s 272ms/step - loss: 1.6646 - lr: 0.0010\n",
            "Epoch 107/150\n",
            "277/277 [==============================] - ETA: 0s - loss: 1.6538\n",
            "Epoch 00107: loss improved from 1.66463 to 1.65378, saving model to nextword1.h5\n",
            "277/277 [==============================] - 75s 272ms/step - loss: 1.6538 - lr: 0.0010\n",
            "Epoch 108/150\n",
            "277/277 [==============================] - ETA: 0s - loss: 1.6498\n",
            "Epoch 00108: loss improved from 1.65378 to 1.64984, saving model to nextword1.h5\n",
            "277/277 [==============================] - 75s 271ms/step - loss: 1.6498 - lr: 0.0010\n",
            "Epoch 109/150\n",
            "277/277 [==============================] - ETA: 0s - loss: 1.6458\n",
            "Epoch 00109: loss improved from 1.64984 to 1.64584, saving model to nextword1.h5\n",
            "277/277 [==============================] - 75s 271ms/step - loss: 1.6458 - lr: 0.0010\n",
            "Epoch 110/150\n",
            "277/277 [==============================] - ETA: 0s - loss: 1.6422\n",
            "Epoch 00110: loss improved from 1.64584 to 1.64223, saving model to nextword1.h5\n",
            "277/277 [==============================] - 76s 273ms/step - loss: 1.6422 - lr: 0.0010\n",
            "Epoch 111/150\n",
            "277/277 [==============================] - ETA: 0s - loss: 1.6461\n",
            "Epoch 00111: loss did not improve from 1.64223\n",
            "277/277 [==============================] - 75s 271ms/step - loss: 1.6461 - lr: 0.0010\n",
            "Epoch 112/150\n",
            "277/277 [==============================] - ETA: 0s - loss: 1.6525\n",
            "Epoch 00112: loss did not improve from 1.64223\n",
            "277/277 [==============================] - 75s 272ms/step - loss: 1.6525 - lr: 0.0010\n",
            "Epoch 113/150\n",
            "277/277 [==============================] - ETA: 0s - loss: 1.6459\n",
            "Epoch 00113: loss did not improve from 1.64223\n",
            "\n",
            "Epoch 00113: ReduceLROnPlateau reducing learning rate to 0.00020000000949949026.\n",
            "277/277 [==============================] - 76s 275ms/step - loss: 1.6459 - lr: 0.0010\n",
            "Epoch 114/150\n",
            "277/277 [==============================] - ETA: 0s - loss: 1.4960\n",
            "Epoch 00114: loss improved from 1.64223 to 1.49598, saving model to nextword1.h5\n",
            "277/277 [==============================] - 76s 275ms/step - loss: 1.4960 - lr: 2.0000e-04\n",
            "Epoch 115/150\n",
            "277/277 [==============================] - ETA: 0s - loss: 1.4702\n",
            "Epoch 00115: loss improved from 1.49598 to 1.47015, saving model to nextword1.h5\n",
            "277/277 [==============================] - 76s 274ms/step - loss: 1.4702 - lr: 2.0000e-04\n",
            "Epoch 116/150\n",
            "277/277 [==============================] - ETA: 0s - loss: 1.4633\n",
            "Epoch 00116: loss improved from 1.47015 to 1.46326, saving model to nextword1.h5\n",
            "277/277 [==============================] - 76s 274ms/step - loss: 1.4633 - lr: 2.0000e-04\n",
            "Epoch 117/150\n",
            "277/277 [==============================] - ETA: 0s - loss: 1.4591\n",
            "Epoch 00117: loss improved from 1.46326 to 1.45912, saving model to nextword1.h5\n",
            "277/277 [==============================] - 76s 276ms/step - loss: 1.4591 - lr: 2.0000e-04\n",
            "Epoch 118/150\n",
            "277/277 [==============================] - ETA: 0s - loss: 1.4579\n",
            "Epoch 00118: loss improved from 1.45912 to 1.45792, saving model to nextword1.h5\n",
            "277/277 [==============================] - 76s 275ms/step - loss: 1.4579 - lr: 2.0000e-04\n",
            "Epoch 119/150\n",
            "277/277 [==============================] - ETA: 0s - loss: 1.4568\n",
            "Epoch 00119: loss improved from 1.45792 to 1.45678, saving model to nextword1.h5\n",
            "277/277 [==============================] - 76s 275ms/step - loss: 1.4568 - lr: 2.0000e-04\n",
            "Epoch 120/150\n",
            "277/277 [==============================] - ETA: 0s - loss: 1.4554\n",
            "Epoch 00120: loss improved from 1.45678 to 1.45541, saving model to nextword1.h5\n",
            "277/277 [==============================] - 76s 274ms/step - loss: 1.4554 - lr: 2.0000e-04\n",
            "Epoch 121/150\n",
            "277/277 [==============================] - ETA: 0s - loss: 1.4547\n",
            "Epoch 00121: loss improved from 1.45541 to 1.45468, saving model to nextword1.h5\n",
            "277/277 [==============================] - 76s 275ms/step - loss: 1.4547 - lr: 2.0000e-04\n",
            "Epoch 122/150\n",
            "277/277 [==============================] - ETA: 0s - loss: 1.4541\n",
            "Epoch 00122: loss improved from 1.45468 to 1.45408, saving model to nextword1.h5\n",
            "277/277 [==============================] - 76s 274ms/step - loss: 1.4541 - lr: 2.0000e-04\n",
            "Epoch 123/150\n",
            "277/277 [==============================] - ETA: 0s - loss: 1.4535\n",
            "Epoch 00123: loss improved from 1.45408 to 1.45353, saving model to nextword1.h5\n",
            "277/277 [==============================] - 76s 274ms/step - loss: 1.4535 - lr: 2.0000e-04\n",
            "Epoch 124/150\n",
            "277/277 [==============================] - ETA: 0s - loss: 1.4531\n",
            "Epoch 00124: loss improved from 1.45353 to 1.45311, saving model to nextword1.h5\n",
            "277/277 [==============================] - 76s 274ms/step - loss: 1.4531 - lr: 2.0000e-04\n",
            "Epoch 125/150\n",
            "277/277 [==============================] - ETA: 0s - loss: 1.4527\n",
            "Epoch 00125: loss improved from 1.45311 to 1.45267, saving model to nextword1.h5\n",
            "277/277 [==============================] - 76s 274ms/step - loss: 1.4527 - lr: 2.0000e-04\n",
            "Epoch 126/150\n",
            "277/277 [==============================] - ETA: 0s - loss: 1.4521\n",
            "Epoch 00126: loss improved from 1.45267 to 1.45207, saving model to nextword1.h5\n",
            "277/277 [==============================] - 76s 276ms/step - loss: 1.4521 - lr: 2.0000e-04\n",
            "Epoch 127/150\n",
            "277/277 [==============================] - ETA: 0s - loss: 1.4519\n",
            "Epoch 00127: loss improved from 1.45207 to 1.45194, saving model to nextword1.h5\n",
            "277/277 [==============================] - 76s 274ms/step - loss: 1.4519 - lr: 2.0000e-04\n",
            "Epoch 128/150\n",
            "277/277 [==============================] - ETA: 0s - loss: 1.4510\n",
            "Epoch 00128: loss improved from 1.45194 to 1.45104, saving model to nextword1.h5\n",
            "277/277 [==============================] - 76s 275ms/step - loss: 1.4510 - lr: 2.0000e-04\n",
            "Epoch 129/150\n",
            "277/277 [==============================] - ETA: 0s - loss: 1.4511\n",
            "Epoch 00129: loss did not improve from 1.45104\n",
            "277/277 [==============================] - 76s 273ms/step - loss: 1.4511 - lr: 2.0000e-04\n",
            "Epoch 130/150\n",
            "277/277 [==============================] - ETA: 0s - loss: 1.4508\n",
            "Epoch 00130: loss improved from 1.45104 to 1.45075, saving model to nextword1.h5\n",
            "277/277 [==============================] - 76s 275ms/step - loss: 1.4508 - lr: 2.0000e-04\n",
            "Epoch 131/150\n",
            "277/277 [==============================] - ETA: 0s - loss: 1.4503\n",
            "Epoch 00131: loss improved from 1.45075 to 1.45026, saving model to nextword1.h5\n",
            "277/277 [==============================] - 76s 275ms/step - loss: 1.4503 - lr: 2.0000e-04\n",
            "Epoch 132/150\n",
            "277/277 [==============================] - ETA: 0s - loss: 1.4505\n",
            "Epoch 00132: loss did not improve from 1.45026\n",
            "277/277 [==============================] - 76s 272ms/step - loss: 1.4505 - lr: 2.0000e-04\n",
            "Epoch 133/150\n",
            "277/277 [==============================] - ETA: 0s - loss: 1.4494\n",
            "Epoch 00133: loss improved from 1.45026 to 1.44937, saving model to nextword1.h5\n",
            "277/277 [==============================] - 76s 275ms/step - loss: 1.4494 - lr: 2.0000e-04\n",
            "Epoch 134/150\n",
            "277/277 [==============================] - ETA: 0s - loss: 1.4502\n",
            "Epoch 00134: loss did not improve from 1.44937\n",
            "277/277 [==============================] - 76s 273ms/step - loss: 1.4502 - lr: 2.0000e-04\n",
            "Epoch 135/150\n",
            "277/277 [==============================] - ETA: 0s - loss: 1.4498\n",
            "Epoch 00135: loss did not improve from 1.44937\n",
            "277/277 [==============================] - 75s 272ms/step - loss: 1.4498 - lr: 2.0000e-04\n",
            "Epoch 136/150\n",
            "277/277 [==============================] - ETA: 0s - loss: 1.4495\n",
            "Epoch 00136: loss did not improve from 1.44937\n",
            "\n",
            "Epoch 00136: ReduceLROnPlateau reducing learning rate to 0.0001.\n",
            "277/277 [==============================] - 76s 274ms/step - loss: 1.4495 - lr: 2.0000e-04\n",
            "Epoch 137/150\n",
            "277/277 [==============================] - ETA: 0s - loss: 1.4229\n",
            "Epoch 00137: loss improved from 1.44937 to 1.42293, saving model to nextword1.h5\n",
            "277/277 [==============================] - 76s 275ms/step - loss: 1.4229 - lr: 1.0000e-04\n",
            "Epoch 138/150\n",
            "277/277 [==============================] - ETA: 0s - loss: 1.4227\n",
            "Epoch 00138: loss improved from 1.42293 to 1.42273, saving model to nextword1.h5\n",
            "277/277 [==============================] - 76s 276ms/step - loss: 1.4227 - lr: 1.0000e-04\n",
            "Epoch 139/150\n",
            "277/277 [==============================] - ETA: 0s - loss: 1.4225\n",
            "Epoch 00139: loss improved from 1.42273 to 1.42250, saving model to nextword1.h5\n",
            "277/277 [==============================] - 77s 276ms/step - loss: 1.4225 - lr: 1.0000e-04\n",
            "Epoch 140/150\n",
            "277/277 [==============================] - ETA: 0s - loss: 1.4223\n",
            "Epoch 00140: loss improved from 1.42250 to 1.42233, saving model to nextword1.h5\n",
            "277/277 [==============================] - 76s 276ms/step - loss: 1.4223 - lr: 1.0000e-04\n",
            "Epoch 141/150\n",
            "277/277 [==============================] - ETA: 0s - loss: 1.4220\n",
            "Epoch 00141: loss improved from 1.42233 to 1.42204, saving model to nextword1.h5\n",
            "277/277 [==============================] - 76s 276ms/step - loss: 1.4220 - lr: 1.0000e-04\n",
            "Epoch 142/150\n",
            "277/277 [==============================] - ETA: 0s - loss: 1.4217\n",
            "Epoch 00142: loss improved from 1.42204 to 1.42166, saving model to nextword1.h5\n",
            "277/277 [==============================] - 76s 275ms/step - loss: 1.4217 - lr: 1.0000e-04\n",
            "Epoch 143/150\n",
            "277/277 [==============================] - ETA: 0s - loss: 1.4216\n",
            "Epoch 00143: loss improved from 1.42166 to 1.42163, saving model to nextword1.h5\n",
            "277/277 [==============================] - 76s 274ms/step - loss: 1.4216 - lr: 1.0000e-04\n",
            "Epoch 144/150\n",
            "277/277 [==============================] - ETA: 0s - loss: 1.4215\n",
            "Epoch 00144: loss improved from 1.42163 to 1.42150, saving model to nextword1.h5\n",
            "277/277 [==============================] - 76s 276ms/step - loss: 1.4215 - lr: 1.0000e-04\n",
            "Epoch 145/150\n",
            "277/277 [==============================] - ETA: 0s - loss: 1.4213\n",
            "Epoch 00145: loss improved from 1.42150 to 1.42127, saving model to nextword1.h5\n",
            "277/277 [==============================] - 76s 276ms/step - loss: 1.4213 - lr: 1.0000e-04\n",
            "Epoch 146/150\n",
            "277/277 [==============================] - ETA: 0s - loss: 1.4214\n",
            "Epoch 00146: loss did not improve from 1.42127\n",
            "277/277 [==============================] - 76s 274ms/step - loss: 1.4214 - lr: 1.0000e-04\n",
            "Epoch 147/150\n",
            "277/277 [==============================] - ETA: 0s - loss: 1.4211\n",
            "Epoch 00147: loss improved from 1.42127 to 1.42108, saving model to nextword1.h5\n",
            "277/277 [==============================] - 76s 275ms/step - loss: 1.4211 - lr: 1.0000e-04\n",
            "Epoch 148/150\n",
            "277/277 [==============================] - ETA: 0s - loss: 1.4208\n",
            "Epoch 00148: loss improved from 1.42108 to 1.42081, saving model to nextword1.h5\n",
            "277/277 [==============================] - 76s 275ms/step - loss: 1.4208 - lr: 1.0000e-04\n",
            "Epoch 149/150\n",
            "277/277 [==============================] - ETA: 0s - loss: 1.4207\n",
            "Epoch 00149: loss improved from 1.42081 to 1.42066, saving model to nextword1.h5\n",
            "277/277 [==============================] - 76s 275ms/step - loss: 1.4207 - lr: 1.0000e-04\n",
            "Epoch 150/150\n",
            "277/277 [==============================] - ETA: 0s - loss: 1.4205\n",
            "Epoch 00150: loss improved from 1.42066 to 1.42045, saving model to nextword1.h5\n",
            "277/277 [==============================] - 76s 275ms/step - loss: 1.4205 - lr: 1.0000e-04\n"
          ]
        },
        {
          "output_type": "execute_result",
          "data": {
            "text/plain": [
              "<keras.callbacks.History at 0x7fe562b750d0>"
            ]
          },
          "metadata": {},
          "execution_count": 20
        }
      ]
    },
    {
      "cell_type": "code",
      "metadata": {
        "colab": {
          "base_uri": "https://localhost:8080/",
          "height": 426
        },
        "id": "hmhJsh7sCzxE",
        "outputId": "83f78fa9-a25e-45bb-c467-17140ae606a4"
      },
      "source": [
        "from IPython.display import Image \n",
        "pil_img = Image(filename='graph.png')\n",
        "display(pil_img)"
      ],
      "execution_count": 25,
      "outputs": [
        {
          "output_type": "display_data",
          "data": {
            "image/png": "[encoded data removed]",
            "text/plain": [
              "<IPython.core.display.Image object>"
            ]
          },
          "metadata": {}
        }
      ]
    },
    {
      "cell_type": "markdown",
      "metadata": {
        "id": "MIc7VHr5k3EJ"
      },
      "source": [
        "# **Prediction**\n",
        "For the prediction notebook, we will load the tokenizer file which we have stored in the pickle format. We will then load our next word model which we have saved in our directory. We will use this same tokenizer to perform tokenization on each of the input sentences for which we should make the predictions on. After this step, we can proceed to make predictions on the input sentence by using the saved model."
      ]
    },
    {
      "cell_type": "markdown",
      "metadata": {
        "id": "uu2qEAA0k6tt"
      },
      "source": [
        "# **Observation**\n",
        "We are able to develop a high-quality next word prediction for the metamorphosis dataset. We are able to reduce the loss significantly in about 150 epochs. The next word prediction model which we have developed is fairly accurate on the provided dataset. The overall quality of the prediction is good. However, certain pre-processing steps and certain changes in the model can be made to improve the prediction of the model."
      ]
    }
  ]
}